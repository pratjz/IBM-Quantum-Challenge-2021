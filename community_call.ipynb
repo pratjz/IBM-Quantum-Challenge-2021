{
 "cells": [
  {
   "cell_type": "markdown",
   "id": "handed-daily",
   "metadata": {
    "slideshow": {
     "slide_type": "slide"
    }
   },
   "source": [
    "# PennyLane internals: Quantum Tapes\n",
    "## Christina Lee\n",
    "\n",
    "What is a tape?\n",
    "\n",
    "<img src=\"./pictures/tape_def2.jpeg\" width=\"700\" style=\"margin-left: auto; margin-right: auto\"/>"
   ]
  },
  {
   "cell_type": "markdown",
   "id": "virtual-norman",
   "metadata": {
    "slideshow": {
     "slide_type": "subslide"
    }
   },
   "source": [
    "Think this type of tape:\n",
    "\n",
    "<img src=\"./pictures/casette_tape.jpg\" width=\"300\" style=\"margin-left: auto; margin-right: auto\"/>"
   ]
  },
  {
   "cell_type": "markdown",
   "id": "dirty-strengthening",
   "metadata": {
    "slideshow": {
     "slide_type": "slide"
    }
   },
   "source": [
    "Inspired by tensorflow tapes:"
   ]
  },
  {
   "cell_type": "code",
   "execution_count": 2,
   "id": "solar-pricing",
   "metadata": {
    "slideshow": {
     "slide_type": "-"
    }
   },
   "outputs": [
    {
     "data": {
      "text/plain": [
       "6.0"
      ]
     },
     "execution_count": 2,
     "metadata": {},
     "output_type": "execute_result"
    }
   ],
   "source": [
    "import tensorflow as tf\n",
    "\n",
    "x = tf.Variable(3.0)\n",
    "\n",
    "with tf.GradientTape() as tape:\n",
    "    y = x**2\n",
    "\n",
    "dy_dx = tape.gradient(y, x)\n",
    "dy_dx.numpy()"
   ]
  },
  {
   "cell_type": "markdown",
   "id": "statewide-spokesman",
   "metadata": {
    "slideshow": {
     "slide_type": "slide"
    }
   },
   "source": [
    "So let's see them!"
   ]
  },
  {
   "cell_type": "code",
   "execution_count": 3,
   "id": "completed-jacket",
   "metadata": {
    "slideshow": {
     "slide_type": "fragment"
    }
   },
   "outputs": [],
   "source": [
    "import pennylane as qml\n",
    "from pennylane import numpy as np"
   ]
  },
  {
   "cell_type": "code",
   "execution_count": 37,
   "id": "rough-niger",
   "metadata": {
    "slideshow": {
     "slide_type": "subslide"
    }
   },
   "outputs": [],
   "source": [
    "with qml.tape.QuantumTape() as tape:\n",
    "    qml.PauliX(wires=0)\n",
    "    qml.RY(0.1, wires=1)\n",
    "    qml.CRZ(0.2, wires=(0, 1))\n",
    "    qml.expval(qml.PauliZ(1)) "
   ]
  },
  {
   "cell_type": "code",
   "execution_count": 5,
   "id": "eleven-commons",
   "metadata": {
    "slideshow": {
     "slide_type": "fragment"
    }
   },
   "outputs": [
    {
     "data": {
      "text/plain": [
       "[PauliX(wires=[0]), RY(0.1, wires=[1]), CRZ(0.2, wires=[0, 1])]"
      ]
     },
     "execution_count": 5,
     "metadata": {},
     "output_type": "execute_result"
    }
   ],
   "source": [
    "tape.operations"
   ]
  },
  {
   "cell_type": "code",
   "execution_count": 6,
   "id": "spoken-eagle",
   "metadata": {
    "slideshow": {
     "slide_type": "fragment"
    }
   },
   "outputs": [
    {
     "data": {
      "text/plain": [
       "[expval(PauliZ(wires=[1]))]"
      ]
     },
     "execution_count": 6,
     "metadata": {},
     "output_type": "execute_result"
    }
   ],
   "source": [
    "tape.measurements"
   ]
  },
  {
   "cell_type": "code",
   "execution_count": 7,
   "id": "electrical-package",
   "metadata": {
    "slideshow": {
     "slide_type": "fragment"
    }
   },
   "outputs": [
    {
     "data": {
      "text/plain": [
       "[0.1, 0.2]"
      ]
     },
     "execution_count": 7,
     "metadata": {},
     "output_type": "execute_result"
    }
   ],
   "source": [
    "tape.get_parameters()"
   ]
  },
  {
   "cell_type": "code",
   "execution_count": 8,
   "id": "union-option",
   "metadata": {
    "slideshow": {
     "slide_type": "fragment"
    }
   },
   "outputs": [
    {
     "data": {
      "text/plain": [
       "{0, 1}"
      ]
     },
     "execution_count": 8,
     "metadata": {},
     "output_type": "execute_result"
    }
   ],
   "source": [
    "tape.trainable_params"
   ]
  },
  {
   "cell_type": "code",
   "execution_count": 9,
   "id": "satisfactory-bathroom",
   "metadata": {
    "slideshow": {
     "slide_type": "fragment"
    }
   },
   "outputs": [
    {
     "data": {
      "text/plain": [
       "<Wires = [0, 1]>"
      ]
     },
     "execution_count": 9,
     "metadata": {},
     "output_type": "execute_result"
    }
   ],
   "source": [
    "tape.wires"
   ]
  },
  {
   "cell_type": "markdown",
   "id": "guilty-england",
   "metadata": {
    "slideshow": {
     "slide_type": "slide"
    }
   },
   "source": [
    "But I've never seen one before?"
   ]
  },
  {
   "cell_type": "code",
   "execution_count": 10,
   "id": "hollywood-breeding",
   "metadata": {
    "slideshow": {
     "slide_type": "-"
    }
   },
   "outputs": [],
   "source": [
    "dev = qml.device('default.qubit', wires=2)\n",
    "\n",
    "@qml.qnode(dev)\n",
    "def circuit(x):\n",
    "    qml.PauliX(wires=0)\n",
    "    qml.RY(x[0], wires=1)\n",
    "    qml.CRZ(x[1], wires=(0, 1))\n",
    "    return qml.expval(qml.PauliZ(1))"
   ]
  },
  {
   "cell_type": "markdown",
   "id": "characteristic-slovak",
   "metadata": {
    "slideshow": {
     "slide_type": "subslide"
    }
   },
   "source": [
    "QNode's create them internally, and we can access them via the `qtape` attribute.\n",
    "\n",
    "But where is the `qtape` now?"
   ]
  },
  {
   "cell_type": "code",
   "execution_count": 11,
   "id": "abandoned-willow",
   "metadata": {
    "slideshow": {
     "slide_type": "-"
    }
   },
   "outputs": [
    {
     "name": "stdout",
     "output_type": "stream",
     "text": [
      "None\n"
     ]
    }
   ],
   "source": [
    "print(circuit.qtape)"
   ]
  },
  {
   "cell_type": "markdown",
   "id": "removable-indicator",
   "metadata": {
    "slideshow": {
     "slide_type": "subslide"
    }
   },
   "source": [
    "The qtape is created during execution!"
   ]
  },
  {
   "cell_type": "code",
   "execution_count": 12,
   "id": "institutional-trigger",
   "metadata": {
    "slideshow": {
     "slide_type": "-"
    }
   },
   "outputs": [
    {
     "name": "stdout",
     "output_type": "stream",
     "text": [
      "<JacobianTape: wires=[0, 1], params=2>\n"
     ]
    }
   ],
   "source": [
    "x = np.array([0.1, 0.2])\n",
    "\n",
    "circuit(x)\n",
    "\n",
    "print(circuit.qtape)"
   ]
  },
  {
   "cell_type": "code",
   "execution_count": 13,
   "id": "hybrid-entry",
   "metadata": {
    "slideshow": {
     "slide_type": "-"
    }
   },
   "outputs": [
    {
     "data": {
      "text/plain": [
       "[PauliX(wires=[0]),\n",
       " RY(tensor(0.1, requires_grad=True), wires=[1]),\n",
       " CRZ(tensor(0.2, requires_grad=True), wires=[0, 1])]"
      ]
     },
     "execution_count": 13,
     "metadata": {},
     "output_type": "execute_result"
    }
   ],
   "source": [
    "circuit.qtape.operations"
   ]
  },
  {
   "cell_type": "markdown",
   "id": "likely-tournament",
   "metadata": {
    "slideshow": {
     "slide_type": "subslide"
    }
   },
   "source": [
    "But I just want the tape.  I don't want to execute it.\n",
    "\n",
    "You can just call `construct`:"
   ]
  },
  {
   "cell_type": "code",
   "execution_count": 32,
   "id": "prompt-springer",
   "metadata": {
    "slideshow": {
     "slide_type": "-"
    }
   },
   "outputs": [
    {
     "data": {
      "text/plain": [
       "[PauliX(wires=[0]),\n",
       " RY(tensor(0.6, requires_grad=True), wires=[1]),\n",
       " CRZ(tensor(0.7, requires_grad=True), wires=[0, 1])]"
      ]
     },
     "execution_count": 32,
     "metadata": {},
     "output_type": "execute_result"
    }
   ],
   "source": [
    "circuit.construct(([0.6, 0.7], ) , {} )\n",
    "\n",
    "circuit.qtape.operations"
   ]
  },
  {
   "cell_type": "markdown",
   "id": "constitutional-inside",
   "metadata": {
    "slideshow": {
     "slide_type": "slide"
    }
   },
   "source": [
    "By default, tapes are constructed on every execution, in case of classical logic:"
   ]
  },
  {
   "cell_type": "code",
   "execution_count": 14,
   "id": "frank-princess",
   "metadata": {
    "slideshow": {
     "slide_type": "-"
    }
   },
   "outputs": [
    {
     "name": "stdout",
     "output_type": "stream",
     "text": [
      "1.45 ms ± 486 µs per loop (mean ± std. dev. of 7 runs, 1000 loops each)\n"
     ]
    }
   ],
   "source": [
    "%timeit circuit(x)"
   ]
  },
  {
   "cell_type": "markdown",
   "id": "immune-diesel",
   "metadata": {
    "slideshow": {
     "slide_type": "-"
    }
   },
   "source": [
    "If you know the circuit isn't changing structure, you can make the qnode **immutable** for a slight performance boost:"
   ]
  },
  {
   "cell_type": "code",
   "execution_count": 15,
   "id": "premier-monday",
   "metadata": {
    "slideshow": {
     "slide_type": "-"
    }
   },
   "outputs": [
    {
     "name": "stdout",
     "output_type": "stream",
     "text": [
      "836 µs ± 27.2 µs per loop (mean ± std. dev. of 7 runs, 1000 loops each)\n"
     ]
    }
   ],
   "source": [
    "circuit.mutable = False\n",
    "%timeit circuit(x)\n",
    "circuit.mutable = True"
   ]
  },
  {
   "cell_type": "markdown",
   "id": "assigned-cowboy",
   "metadata": {
    "slideshow": {
     "slide_type": "slide"
    }
   },
   "source": [
    "What about templates?"
   ]
  },
  {
   "cell_type": "code",
   "execution_count": 20,
   "id": "novel-guidance",
   "metadata": {
    "slideshow": {
     "slide_type": "-"
    }
   },
   "outputs": [],
   "source": [
    "rng = np.random.default_rng(seed=42)\n",
    "params = rng.random(qml.templates.BasicEntanglerLayers.shape(n_wires=2, n_layers=2))\n",
    "\n",
    "with qml.tape.QuantumTape() as tape:\n",
    "    qml.templates.BasicEntanglerLayers(params, wires=(0,1))"
   ]
  },
  {
   "cell_type": "code",
   "execution_count": 21,
   "id": "future-macintosh",
   "metadata": {
    "slideshow": {
     "slide_type": "-"
    }
   },
   "outputs": [
    {
     "data": {
      "text/plain": [
       "[BasicEntanglerLayers(tensor([[0.77395605, 0.43887844],\n",
       "         [0.85859792, 0.69736803]], requires_grad=True), wires=[0, 1])]"
      ]
     },
     "execution_count": 21,
     "metadata": {},
     "output_type": "execute_result"
    }
   ],
   "source": [
    "tape.operations"
   ]
  },
  {
   "cell_type": "markdown",
   "id": "japanese-prisoner",
   "metadata": {
    "slideshow": {
     "slide_type": "subslide"
    }
   },
   "source": [
    "QNode's perform an expansion to tapes supported on devices:"
   ]
  },
  {
   "cell_type": "code",
   "execution_count": 23,
   "id": "integral-mainstream",
   "metadata": {
    "slideshow": {
     "slide_type": "-"
    }
   },
   "outputs": [
    {
     "data": {
      "text/plain": [
       "[RX(tensor(0.77395605, requires_grad=True), wires=[0]),\n",
       " RX(tensor(0.43887844, requires_grad=True), wires=[1]),\n",
       " CNOT(wires=[0, 1]),\n",
       " RX(tensor(0.85859792, requires_grad=True), wires=[0]),\n",
       " RX(tensor(0.69736803, requires_grad=True), wires=[1]),\n",
       " CNOT(wires=[0, 1])]"
      ]
     },
     "execution_count": 23,
     "metadata": {},
     "output_type": "execute_result"
    }
   ],
   "source": [
    "new_tape = tape.expand()\n",
    "\n",
    "new_tape.operations"
   ]
  },
  {
   "cell_type": "markdown",
   "id": "defensive-coordinate",
   "metadata": {},
   "source": [
    "Nice for seeing what the circuit is, but what is it good for?\n",
    "\n",
    "How about custom tape transforms?"
   ]
  },
  {
   "cell_type": "code",
   "execution_count": 28,
   "id": "comic-locator",
   "metadata": {},
   "outputs": [],
   "source": [
    "@qml.single_tape_transform\n",
    "def convert_cnots(tape):\n",
    "    # Loop through all items in the original tape\n",
    "    for op in tape.operations + tape.measurements:\n",
    "\n",
    "        # If it's a CNOT, replace it using the circuit identity\n",
    "        if op.name == \"CNOT\":\n",
    "            wires = op.wires\n",
    "            qml.Hadamard(wires=wires[1])\n",
    "            qml.CZ(wires=[wires[1], wires[0]])\n",
    "            qml.Hadamard(wires=wires[1])\n",
    "\n",
    "        # If it's not a CNOT, keep the operation as-is and apply it\n",
    "        else:\n",
    "            qml.apply(op)"
   ]
  },
  {
   "cell_type": "code",
   "execution_count": 30,
   "id": "celtic-recognition",
   "metadata": {},
   "outputs": [
    {
     "data": {
      "text/plain": [
       "[RX(tensor(0.77395605, requires_grad=True), wires=[0]),\n",
       " RX(tensor(0.43887844, requires_grad=True), wires=[1]),\n",
       " Hadamard(wires=[1]),\n",
       " CZ(wires=[1, 0]),\n",
       " Hadamard(wires=[1]),\n",
       " RX(tensor(0.85859792, requires_grad=True), wires=[0]),\n",
       " RX(tensor(0.69736803, requires_grad=True), wires=[1]),\n",
       " Hadamard(wires=[1]),\n",
       " CZ(wires=[1, 0]),\n",
       " Hadamard(wires=[1])]"
      ]
     },
     "execution_count": 30,
     "metadata": {},
     "output_type": "execute_result"
    }
   ],
   "source": [
    "converted_tape = convert_cnots(new_tape)\n",
    "\n",
    "converted_tape.operations"
   ]
  },
  {
   "cell_type": "markdown",
   "id": "extraordinary-simple",
   "metadata": {
    "slideshow": {
     "slide_type": "slide"
    }
   },
   "source": [
    "Or writing your own device!"
   ]
  },
  {
   "cell_type": "code",
   "execution_count": 35,
   "id": "headed-paste",
   "metadata": {
    "slideshow": {
     "slide_type": "-"
    }
   },
   "outputs": [],
   "source": [
    "dev = qml.device('default.qubit', wires=2)"
   ]
  },
  {
   "cell_type": "code",
   "execution_count": 36,
   "id": "improving-reservoir",
   "metadata": {
    "slideshow": {
     "slide_type": "-"
    }
   },
   "outputs": [
    {
     "data": {
      "text/plain": [
       "array([0.99500417])"
      ]
     },
     "execution_count": 36,
     "metadata": {},
     "output_type": "execute_result"
    }
   ],
   "source": [
    "dev.execute(tape)"
   ]
  },
  {
   "cell_type": "code",
   "execution_count": null,
   "id": "transsexual-haven",
   "metadata": {},
   "outputs": [],
   "source": []
  }
 ],
 "metadata": {
  "celltoolbar": "Slideshow",
  "kernelspec": {
   "display_name": "Python 3",
   "language": "python",
   "name": "python3"
  },
  "language_info": {
   "codemirror_mode": {
    "name": "ipython",
    "version": 3
   },
   "file_extension": ".py",
   "mimetype": "text/x-python",
   "name": "python",
   "nbconvert_exporter": "python",
   "pygments_lexer": "ipython3",
   "version": "3.8.5"
  }
 },
 "nbformat": 4,
 "nbformat_minor": 5
}
