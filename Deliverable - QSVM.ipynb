{
 "cells": [
  {
   "cell_type": "markdown",
   "id": "34240988",
   "metadata": {},
   "source": [
    "## Deliverable - QSVM"
   ]
  },
  {
   "cell_type": "markdown",
   "id": "fbb696c2",
   "metadata": {},
   "source": [
    "Submitted by - Prateek Jain\n",
    "\n",
    "**Problem Statement:** Build a Quantum Support Vector Machine model that classifies the iris dataset (training_size=80, test_size=20, n={2,3}) from Qiskit. The goal is to obtain the best accuracy, as much as possible.\n",
    "\n",
    "There are three conditions: \n",
    "1. Test with two dimensions explained above (n={2, 3}) \n",
    "2. You should use both processes: a unique Kernel process (inserting the kernel function) and the precomputed Kernel process \n",
    "3. Do all executions with ZZFeatureMap; change its input parameter reps to see how it fits (maximum reps=5)\n",
    "\n",
    "**Key Questions to answer:**\n",
    "1. What is the best score you have obtained? \n",
    "2. What kind of kernel process fits better: kernel function or precomputed? \n",
    "3. What is the input parameter that gives you the best accuracy? \n",
    "4. Why your best accuracy is with kernel function/precomputed kernel matrix, x reps and dimension n? Explain your results related to: kernel process ,reps input and dimension.\n"
   ]
  },
  {
   "cell_type": "code",
   "execution_count": 2,
   "id": "130e5020",
   "metadata": {},
   "outputs": [],
   "source": [
    "import matplotlib.pyplot as plt\n",
    "import numpy as np\n",
    "\n",
    "from sklearn.svm import *\n",
    "from sklearn import datasets\n",
    "from sklearn.model_selection import train_test_split\n",
    "from sklearn.preprocessing import StandardScaler, MinMaxScaler\n",
    "from sklearn.decomposition import PCA\n",
    "\n",
    "from qiskit import BasicAer\n",
    "from qiskit.circuit.library import *\n",
    "from qiskit.utils import *\n",
    "from qiskit_machine_learning.algorithms import QSVC\n",
    "from qiskit_machine_learning.kernels import QuantumKernel\n",
    "from qiskit_machine_learning.datasets import *\n",
    "from qiskit_machine_learning.datasets.dataset_helper import features_and_labels_transform\n",
    "\n",
    "import warnings\n",
    "warnings.filterwarnings('ignore')"
   ]
  },
  {
   "cell_type": "code",
   "execution_count": 3,
   "id": "45b06311",
   "metadata": {},
   "outputs": [],
   "source": [
    "# define default seed value\n",
    "seed = 1234\n",
    "algorithm_globals.random_seed = seed"
   ]
  },
  {
   "cell_type": "markdown",
   "id": "11a06ab4",
   "metadata": {},
   "source": [
    "The ***qiskit_machine_learning.datasets iris class*** appears to have data problem and in the precomputed matrix section it gives complex values error, therefore I remplemented the source code of the iris function here and it is working fine."
   ]
  },
  {
   "cell_type": "code",
   "execution_count": 4,
   "id": "1ce978bc",
   "metadata": {},
   "outputs": [],
   "source": [
    "def iris(training_size, test_size, n, plot_data=False, one_hot=True):\n",
    "    \"\"\"returns iris dataset\"\"\"\n",
    "    class_labels = [r\"A\", r\"B\", r\"C\"]\n",
    "    data, target = datasets.load_iris(return_X_y=True)\n",
    "    sample_train, sample_test, label_train, label_test = train_test_split(\n",
    "        data, target, test_size=test_size, random_state=42\n",
    "    )\n",
    "\n",
    "    # Now we standardize for gaussian around 0 with unit variance\n",
    "    std_scale = StandardScaler().fit(sample_train)\n",
    "    sample_train = std_scale.transform(sample_train)\n",
    "    sample_test = std_scale.transform(sample_test)\n",
    "\n",
    "    # Now reduce number of features to number of qubits\n",
    "    pca = PCA(n_components=n).fit(sample_train)\n",
    "    sample_train = pca.transform(sample_train)\n",
    "    sample_test = pca.transform(sample_test)\n",
    "\n",
    "    # Scale to the range (-1,+1)\n",
    "    samples = np.append(sample_train, sample_test, axis=0)\n",
    "    minmax_scale = MinMaxScaler((-1, 1)).fit(samples)\n",
    "    sample_train = minmax_scale.transform(sample_train)\n",
    "    sample_test = minmax_scale.transform(sample_test)\n",
    "\n",
    "    # Pick training size number of samples from each distro\n",
    "    training_input = {\n",
    "        key: (sample_train[label_train == k, :])[:training_size]\n",
    "        for k, key in enumerate(class_labels)\n",
    "    }\n",
    "    test_input = {\n",
    "        key: (sample_test[label_test == k, :])[:test_size] for k, key in enumerate(class_labels)\n",
    "    }\n",
    "\n",
    "    training_feature_array, training_label_array = features_and_labels_transform(\n",
    "        training_input, class_labels, one_hot\n",
    "    )\n",
    "    test_feature_array, test_label_array = features_and_labels_transform(\n",
    "        test_input, class_labels, one_hot\n",
    "    )\n",
    "\n",
    "    if plot_data:\n",
    "        for k in range(0, 3):\n",
    "            plt.scatter(\n",
    "                sample_train[label_train == k, 0][:training_size],\n",
    "                sample_train[label_train == k, 1][:training_size],\n",
    "            )\n",
    "\n",
    "        plt.title(\"Iris dataset\")\n",
    "        plt.show()\n",
    "\n",
    "    return (\n",
    "        training_feature_array,\n",
    "        training_label_array,\n",
    "        test_feature_array,\n",
    "        test_label_array,\n",
    "    )"
   ]
  },
  {
   "cell_type": "markdown",
   "id": "6ce05a7b",
   "metadata": {},
   "source": [
    "**Iris Dataset:** consists of 3 separate classes as the target variable and 4 feature columns as described below"
   ]
  },
  {
   "cell_type": "code",
   "execution_count": 5,
   "id": "d7e03755",
   "metadata": {},
   "outputs": [
    {
     "data": {
      "image/png": "[encoded data removed]",
      "text/plain": [
       "<Figure size 432x288 with 1 Axes>"
      ]
     },
     "metadata": {
      "needs_background": "light"
     },
     "output_type": "display_data"
    }
   ],
   "source": [
    "# view the data set as scatter plot to have an idea of the distribution\n",
    "train_features, train_labels, test_features, test_labels = iris(\n",
    "    training_size=80,\n",
    "    test_size=20,\n",
    "    n=3,\n",
    "    plot_data=True, one_hot=False)"
   ]
  },
  {
   "cell_type": "markdown",
   "id": "6368e07d",
   "metadata": {},
   "source": [
    "Here we have used **ZZFeatureMap** which is basicaly Second-order Pauli-Z evolution circuit.\n",
    "\n",
    "With following ***Arguments:***\n",
    "- ***feature_dimensions:*** dimensionality of the classical data (equal to the number of required qubits)\n",
    "- ***reps:*** number of times the feature map circuit is repeated\n",
    "- ***data_map_function:*** function encoding the classical data.\n",
    "- ***entanglement:*** generates connectivity 'full' or 'linear' or defining your own entanglement structure\n",
    "\n",
    "In the following section \n",
    "- The outer loop will run two times each for dimensions n={2,3} \n",
    "- Then there are two subsections for two methods of QSVM algorithm namely Kernel function & Precomputed Kernel\n",
    "- With each approach repeated for max_reps number of times currently set to 5.\n",
    "- The output will capture the score for each combination of parameters \n",
    "- Having the backend set to qasm_simulator iterating over 1024 shots each time"
   ]
  },
  {
   "cell_type": "code",
   "execution_count": 5,
   "id": "934d8318",
   "metadata": {},
   "outputs": [
    {
     "name": "stdout",
     "output_type": "stream",
     "text": [
      "\n",
      "Kernel function method: Dimensions =  2\n",
      "Reps =  1  Score =  0.95\n",
      "Reps =  2  Score =  0.85\n",
      "Reps =  3  Score =  0.75\n",
      "Reps =  4  Score =  0.65\n",
      "Reps =  5  Score =  0.7\n",
      "\n",
      "Precomputed kernel method: Dimensions =  2\n",
      "Reps =  1  Score =  0.95\n",
      "Reps =  2  Score =  0.85\n",
      "Reps =  3  Score =  0.75\n",
      "Reps =  4  Score =  0.65\n",
      "Reps =  5  Score =  0.7\n",
      "\n",
      "Kernel function method: Dimensions =  3\n",
      "Reps =  1  Score =  0.8\n",
      "Reps =  2  Score =  0.6\n",
      "Reps =  3  Score =  0.6\n",
      "Reps =  4  Score =  0.7\n",
      "Reps =  5  Score =  0.6\n",
      "\n",
      "Precomputed kernel method: Dimensions =  3\n",
      "Reps =  1  Score =  0.8\n",
      "Reps =  2  Score =  0.6\n",
      "Reps =  3  Score =  0.6\n",
      "Reps =  4  Score =  0.7\n",
      "Reps =  5  Score =  0.6\n"
     ]
    }
   ],
   "source": [
    "# define backend, in this case we have used the qasm_simulator\n",
    "iris_backend = QuantumInstance(BasicAer.get_backend('qasm_simulator'), shots=1024,seed_simulator=seed, seed_transpiler=seed)\n",
    "\n",
    "# Maximum number of reps to use\n",
    "max_reps = 5\n",
    "\n",
    "# For loop to use the two dimensions n={2,3} one by one\n",
    "for dimensions in range(2,4):\n",
    "\n",
    "    train_features, train_labels, test_features, test_labels = iris(\n",
    "        training_size=80,\n",
    "        test_size=20,\n",
    "        n=dimensions, # dimensions value coming from for loop above for range 2-4 i.e. values 2,3\n",
    "        plot_data=False, one_hot=False)\n",
    "\n",
    "    ########## Kernel Function Method\n",
    "    print('\\nKernel function method: Dimensions = ',dimensions)\n",
    "    # For loop to Iterate over reps from 1 to max_reps    \n",
    "    for i in range(max_reps):\n",
    "\n",
    "        nreps = i+1 # index range from 0-4 , here we make it 1-5\n",
    "\n",
    "        # create the feature map using ZZFeatureMap\n",
    "        iris_feature_map = ZZFeatureMap(feature_dimension=dimensions, reps=nreps, entanglement='full')\n",
    "\n",
    "        # define the kernel\n",
    "        iris_kernel = QuantumKernel(feature_map=iris_feature_map, quantum_instance=iris_backend)\n",
    "        \n",
    "        # use the encapsulated Qiskit function QSVC\n",
    "        iris_qsvc = QSVC(quantum_kernel=iris_kernel)\n",
    "\n",
    "        # fit the data\n",
    "        iris_qsvc.fit(train_features, train_labels)\n",
    "\n",
    "        # score of the test data\n",
    "        iris_score = iris_qsvc.score(test_features, test_labels)\n",
    "        print('Reps = ',nreps,' Score = ',iris_score)\n",
    "\n",
    "        \n",
    "    ########## Precomputed Kernel Matrices Method\n",
    "    print('\\nPrecomputed kernel method: Dimensions = ',dimensions)\n",
    "    # For loop to Iterate over reps from 1 to max_reps   \n",
    "    for i in range(max_reps):\n",
    "\n",
    "        nreps = i+1 # index range from 0-4 , here we make it 1-5\n",
    "\n",
    "        # create the feature map using ZZFeatureMap\n",
    "        iris_feature_map = ZZFeatureMap(feature_dimension=dimensions, reps=nreps, entanglement='full')\n",
    "\n",
    "        # define the kernel\n",
    "        iris_kernel = QuantumKernel(feature_map=iris_feature_map, quantum_instance=iris_backend)\n",
    "        \n",
    "        #Precomputed matrices\n",
    "        iris_matrix_train = iris_kernel.evaluate(x_vec=train_features)\n",
    "        iris_matrix_test = iris_kernel.evaluate(x_vec=test_features, y_vec=train_features)\n",
    "\n",
    "        iris_qsvc_pre = SVC(kernel='precomputed')\n",
    "        iris_qsvc_pre.fit(iris_matrix_train, train_labels)\n",
    "        \n",
    "        iris_score_pre = iris_qsvc_pre.score(iris_matrix_test, test_labels)\n",
    "        print('Reps = ',nreps,' Score = ', iris_score_pre)"
   ]
  },
  {
   "cell_type": "markdown",
   "id": "7a0561a5",
   "metadata": {},
   "source": [
    "**Q1. What is the best score you have obtained?**\n",
    "<div class=\"alert alert-block alert-success\">\n",
    "    <b>Ans:</b> The Best score obtained is with 1 Reps & 2 Dimensions for both the Kernel Function and Precomputed Kernel methods\n",
    "</div>"
   ]
  },
  {
   "cell_type": "markdown",
   "id": "3ea69a4d",
   "metadata": {},
   "source": [
    "**Q2. What kind of kernel process fits better: kernel function or precomputed?**\n",
    "<div class=\"alert alert-block alert-success\">\n",
    "    <b>Ans:</b> Here both the approaches i.e. Kernel function and precomputed kernel give almost same results given the small amount of data. By pre-computing your kernel, enables you to be able to use different type of kernel functions..but since we are using SVC which is almost same in approach as QSVC we get mostly similar results\n",
    "</div>\n"
   ]
  },
  {
   "cell_type": "markdown",
   "id": "ec8d5164",
   "metadata": {},
   "source": [
    "**Q3. What is the input parameter that gives you the best accuracy?**\n",
    "<div class=\"alert alert-block alert-success\">\n",
    "    <b>Ans:</b> The best accuracy is obtained when we have reps = 1 and dimensions = 2 and it decreases by increasing number of reps and dimensions\n",
    "</div>"
   ]
  },
  {
   "cell_type": "markdown",
   "id": "b7d7ef75",
   "metadata": {},
   "source": [
    "**Q4. Why your best accuracy is with kernel function/precomputed kernel matrix, x reps and dimension n? Explain your results related to: kernel process, reps input and dimension.**\n",
    "<div class=\"alert alert-block alert-success\">\n",
    "    <b>Ans:</b> \n",
    "\n",
    "- **Comparing between Kernel function & Precomputed approaches** we don't see much difference in results, this could be due to the fact that same classical approach is used from the SQVC code as used in classical SVC and as mentioned (*There is no proof yet that the QSVM brings a quantum advantage, but the argument the authors of [1](https://arxiv.org/pdf/1804.11326.pdf) make, is that there is for sure no advantage if we use feature maps that are easy to simulate classically, because then we would not need a quantum computer to construct the Kernel.*) \n",
    "    \n",
    "- We also see see that **increasing repetitions** seems to reduce the score this could be because it might induce confusion between the different observation classes. Somehow, it scrambles the information within the rotations making them unrelated and thus reducing the accuracy.\n",
    "    \n",
    "- We also see that the score reduces a little bit when we **increase the number of dimensions** this again could depend upon the distribution of data and the kind of correlation of the data between the dimensions for which pssibly a more indepth analysis with feature engineering could be the approach in a more substantial data sets with higher dimensions. \n",
    "</div>"
   ]
  },
  {
   "cell_type": "markdown",
   "id": "7ca54567",
   "metadata": {},
   "source": [
    "**References:**\n",
    "- https://moodle.upm.es/titulaciones/propias/mod/resource/view.php?id=130794\n",
    "- https://arxiv.org/pdf/1307.0471.pdf\n",
    "- https://medium.com/@patrick.huembeli/introduction-into-quantum-support-vector-machines-727f3ccfa2b4\n",
    "- https://qiskit.org/documentation/stable/0.24/tutorials/machine_learning/01_qsvm_classification.html"
   ]
  }
 ],
 "metadata": {
  "kernelspec": {
   "display_name": "Python 3",
   "language": "python",
   "name": "python3"
  },
  "language_info": {
   "codemirror_mode": {
    "name": "ipython",
    "version": 3
   },
   "file_extension": ".py",
   "mimetype": "text/x-python",
   "name": "python",
   "nbconvert_exporter": "python",
   "pygments_lexer": "ipython3",
   "version": "3.9.5"
  }
 },
 "nbformat": 4,
 "nbformat_minor": 5
}
