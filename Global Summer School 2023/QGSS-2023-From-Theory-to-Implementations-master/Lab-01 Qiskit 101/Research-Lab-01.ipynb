{
 "cells": [
  {
   "cell_type": "markdown",
   "metadata": {},
   "source": [
    "# Research-Lab0-01 :\n"
   ]
  },
  {
   "cell_type": "code",
   "execution_count": null,
   "metadata": {},
   "outputs": [],
   "source": [
    "from qiskit import QuantumCircuit"
   ]
  },
  {
   "cell_type": "markdown",
   "metadata": {},
   "source": [
    "### Creating Quantum Circuit with Qiskit's QuantumCircuit Class\n",
    "- How to create a quantum circuit ? \n",
    "- How to import the quantum circuit class from qiskit into our development enviroment ?\n",
    "- How to create a new quantum circuit object ?\n",
    "- We know that how computer stores the collection of bits and process including the quantum circuits but How can we manipualate those bits to represent the our circuit ?\n",
    "- What is Quantum Circuits\n",
    "- Why do we needed to tell python how many qubits our circuit should have similarly for classical bits?\n",
    "- Why we needed classical bits inside the quantum circuits with qubits ?\n",
    "---\n",
    "> `QuantumCircuit class` is a set of instructions for representing the quantum circuit as qubits/bits like `qc = QuantumCircuit(4, 2)` it will tell the computer to represent a quantum circuit with 4 qubits and 2 bits and we created a variable `qc` which refers to the `QuantumCircuit object`. We have to tell the python that how may qubits / bits does our quantum circuits needed and we use the classical bits into the our quantum circuits to store the measurements of the qubits.\n",
    "\n",
    "> Taking analogy from classical circuits for creation of the quantum circuit like\n",
    "- Step-1 : Encoding the information into our input into the qubits.\n",
    "- Step-2 : Performing the quantum computation onto these qubits \n",
    "- Step-3 : Extract the output qubits and decode them to get the information"
   ]
  },
  {
   "cell_type": "code",
   "execution_count": null,
   "metadata": {},
   "outputs": [],
   "source": [
    "# Creating a quantum circuit with the 2 qubit and 2 bits to store \n",
    "# the measurements of the qubits\n",
    "3\n",
    "qc = QuantumCircuit(2, 2)\n",
    "\n",
    "# draw the quantum circuit\n",
    "qc.draw()"
   ]
  },
  {
   "cell_type": "markdown",
   "metadata": {},
   "source": [
    "> We want to change our quantum circuit for this we needed to change the qubits accordingly similar to the classical one. Python's Objects comes with certain methods which are set of instructions for doing something with that object. So `draw() method` Plot the quantum circuit into human visual form.\n",
    "\n",
    "> Measuring the qubits and storing the result into the classical bits i.e Quantum Computer measure the qubit and record the results. Qiskit has a `measure operation` to quantum circuit to do such tasks."
   ]
  },
  {
   "cell_type": "code",
   "execution_count": null,
   "metadata": {},
   "outputs": [],
   "source": [
    "# Measuring the qubits states and storing it into the classical bits\n",
    "qc.measure([0,1], [0,1])\n",
    "\n",
    "qc.draw()"
   ]
  },
  {
   "cell_type": "markdown",
   "metadata": {},
   "source": [
    "> Quantum Simulator is an standard computer for calculating what idea quantum computer would do ? Simulating the Quantum Computer is much more difficult task on the classical computer becouse of complexity of quantum algorithms on the classical computer grows exponentially with the number of qubits means classical computer can simulate the quantum circuit with the smaller numbers of qubits approximately 30 qubits. There are certain exception also available for simulation but overall simulators are used to design the smaller quantum circuits. Qiskit has it's own simulator called `Aer` which make a new simulator object.\n",
    "\n",
    "> For running quantum circuit simulation of Aer we use the method called `.run()` which return information about the experiment like experiment is completed or running and also the result of the experiments  etc. \n",
    "\n",
    "> To Get the result from simulator we use the `.result()` method  returns the result as dictionaly of count using `.get_counts()`. The Key : bit-string and it's value are the number of times that bit-string was measured."
   ]
  },
  {
   "cell_type": "markdown",
   "metadata": {},
   "source": []
  }
 ],
 "metadata": {
  "language_info": {
   "name": "python"
  },
  "orig_nbformat": 4
 },
 "nbformat": 4,
 "nbformat_minor": 2
}
