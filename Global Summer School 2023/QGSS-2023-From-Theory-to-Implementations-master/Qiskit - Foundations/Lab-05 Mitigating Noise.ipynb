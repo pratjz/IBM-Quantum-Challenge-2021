{
 "cells": [
  {
   "cell_type": "markdown",
   "metadata": {},
   "source": [
    "# Mitigating Noise on Quantum Computers \n",
    "1. Qiskit-tera : to write quantum compter programs\n",
    "2. Qiskit-aer : to simulate the quantum progams(circuits) that includes noisey models\n",
    "3. Qiskit-ignis : tools for quantum hardware varification, noise characterization and error correction.\n",
    "4. "
   ]
  },
  {
   "cell_type": "code",
   "execution_count": null,
   "metadata": {},
   "outputs": [],
   "source": []
  }
 ],
 "metadata": {
  "language_info": {
   "name": "python"
  },
  "orig_nbformat": 4
 },
 "nbformat": 4,
 "nbformat_minor": 2
}
